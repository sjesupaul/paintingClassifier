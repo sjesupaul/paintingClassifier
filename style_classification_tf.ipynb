{
 "cells": [
  {
   "cell_type": "code",
   "execution_count": 23,
   "metadata": {
    "collapsed": true
   },
   "outputs": [],
   "source": [
    "import tensorflow as tf\n",
    "import os\n",
    "import numpy as np"
   ]
  },
  {
   "cell_type": "code",
   "execution_count": 24,
   "metadata": {
    "collapsed": true
   },
   "outputs": [],
   "source": [
    "os.chdir('/Users/Saniya')"
   ]
  },
  {
   "cell_type": "code",
   "execution_count": 25,
   "metadata": {
    "collapsed": false
   },
   "outputs": [
    {
     "name": "stdout",
     "output_type": "stream",
     "text": [
      "\u001b[34mApplications\u001b[m\u001b[m      \u001b[34mLibrary\u001b[m\u001b[m           \u001b[34mProjects\u001b[m\u001b[m          \u001b[34mnltk_data\u001b[m\u001b[m\r\n",
      "\u001b[34mDesktop\u001b[m\u001b[m           \u001b[34mMetis\u001b[m\u001b[m             \u001b[34mPublic\u001b[m\u001b[m            \u001b[34mscikit_learn_data\u001b[m\u001b[m\r\n",
      "\u001b[34mDocuments\u001b[m\u001b[m         \u001b[34mMovies\u001b[m\u001b[m            \u001b[34mPycharmProjects\u001b[m\u001b[m   \u001b[34mtemp\u001b[m\u001b[m\r\n",
      "\u001b[34mDownloads\u001b[m\u001b[m         \u001b[34mMusic\u001b[m\u001b[m             \u001b[34mStuffs\u001b[m\u001b[m            \u001b[34mtf_files\u001b[m\u001b[m\r\n",
      "\u001b[34mDropbox\u001b[m\u001b[m           \u001b[34mPictures\u001b[m\u001b[m          \u001b[34mapps\u001b[m\u001b[m              \u001b[34mvenv\u001b[m\u001b[m\r\n"
     ]
    }
   ],
   "source": [
    "!ls"
   ]
  },
  {
   "cell_type": "code",
   "execution_count": 37,
   "metadata": {
    "collapsed": false
   },
   "outputs": [],
   "source": [
    "# image_path = 'tf_files/styles/Renaissance/RAPHAEL_1.jpg_0_5991.jpeg'\n",
    "# image_path = 'tf_files/styles/impressionism/EDGAR_DEGAS_8.jpg'#sys.argv[1]\n",
    "image_path = 'tf_files/styles/Romanticism/CASPAR_DAVID_FRIEDRICH_11.jpg'\n",
    "image_data = tf.gfile.FastGFile(image_path, 'rb').read()"
   ]
  },
  {
   "cell_type": "code",
   "execution_count": 38,
   "metadata": {
    "collapsed": false
   },
   "outputs": [],
   "source": [
    "label_lines = sorted([line.rstrip() for line in tf.gfile.GFile('tf_files/retrained_labels.txt')])"
   ]
  },
  {
   "cell_type": "code",
   "execution_count": 39,
   "metadata": {
    "collapsed": false
   },
   "outputs": [
    {
     "name": "stderr",
     "output_type": "stream",
     "text": [
      "//anaconda/lib/python3.5/site-packages/tensorflow/python/ops/array_ops.py:1811: VisibleDeprecationWarning: converting an array with ndim > 0 to an index will result in an error in the future\n",
      "  result_shape.insert(dim, 1)\n"
     ]
    }
   ],
   "source": [
    "with tf.gfile.FastGFile('tf_files/retrained_graph.pb', 'rb') as f:\n",
    "    graph_def = tf.GraphDef()\n",
    "    graph_def.ParseFromString(f.read())\n",
    "    _ = tf.import_graph_def(graph_def, name='')"
   ]
  },
  {
   "cell_type": "code",
   "execution_count": 40,
   "metadata": {
    "collapsed": false
   },
   "outputs": [
    {
     "name": "stdout",
     "output_type": "stream",
     "text": [
      "abstract expressionism (score = 0.00829)\n",
      "baroque (score = 0.00520)\n",
      "constructivism (score = 0.00366)\n",
      "cubism (score = 0.00154)\n",
      "impressionism (score = 0.83576)\n",
      "neoclassical (score = 0.00083)\n",
      "popart (score = 0.00605)\n",
      "post impressionism (score = 0.00510)\n",
      "realism (score = 0.00494)\n",
      "renaissance (score = 0.00093)\n",
      "romanticism (score = 0.00555)\n",
      "surrealism (score = 0.00095)\n",
      "symbolism (score = 0.12120)\n"
     ]
    }
   ],
   "source": [
    "with tf.Session() as sess:\n",
    "    softmax_tensor = sess.graph.get_tensor_by_name('final_result:0')\n",
    "    predictions = sess.run(softmax_tensor, {'DecodeJpeg/contents:0': image_data})\n",
    "    top_k = predictions[0].argsort()[-len(predictions[0]):][::-1]\n",
    "#     print(top_k[0])\n",
    "    for node_id in range(0,13):#top_k:\n",
    "        human_string = label_lines[node_id]\n",
    "        score = predictions[0][node_id]\n",
    "        print('%s (score = %.5f)' % (human_string, score))"
   ]
  },
  {
   "cell_type": "code",
   "execution_count": null,
   "metadata": {
    "collapsed": true
   },
   "outputs": [],
   "source": []
  }
 ],
 "metadata": {
  "kernelspec": {
   "display_name": "Python 3",
   "language": "python",
   "name": "python3"
  },
  "language_info": {
   "codemirror_mode": {
    "name": "ipython",
    "version": 3
   },
   "file_extension": ".py",
   "mimetype": "text/x-python",
   "name": "python",
   "nbconvert_exporter": "python",
   "pygments_lexer": "ipython3",
   "version": "3.5.2"
  }
 },
 "nbformat": 4,
 "nbformat_minor": 0
}
